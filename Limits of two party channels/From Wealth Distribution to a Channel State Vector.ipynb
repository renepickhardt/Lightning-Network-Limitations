{
 "cells": [
  {
   "cell_type": "markdown",
   "id": "6b35eeb1-8c90-4b50-9193-b27143c50c56",
   "metadata": {},
   "source": [
    "Between May 24th and May 28th [Anastasios (Tasos) Sidiropoulos](https://sidiropo.people.uic.edu/) provided several counter examples indicating that [our constraints for the the polytope of wealth distributions](https://github.com/renepickhardt/Lightning-Network-Limitations/blob/906b3a4d691cbfb30c2f385c6697b4fe2bb81676/Limits%20of%20two%20party%20channels/Geometric%20Argument%20for%20Bimodal%20Liquidity%20Distribution%20in%20Payment%20Channels%20of%20the%20Lightning%20Network.ipynb) are too weak. In particular he provided [a point in our polytope for which no feasible lighting network state existed](https://twitter.com/sidiropo/status/1795458687500239055)\n",
    "\n",
    "His example assumes the following network\n",
    "\n",
    "```\n",
    "(A)---2---(B)---2---(C)---2---(D)---2---(E)---2---(F)\n",
    "```\n",
    "where `A,B,C,F` hold `1` coin each and `D,E` hold `3`coins. \n",
    "\n",
    "one can easily check that $w_i+w_j>=c_{ij}$ and no user has more coins than total capacity of the neighboring channels. \n",
    "\n",
    "However no valid state for this network exists that produces this particular wealth distribution. This means our polytope of wealth distributions is too large and the formulation of inequalities cannot hold. \n",
    "\n",
    "## Smaller example\n",
    "\n",
    "The example of Sidiropoulos can actually be made smaller. Consider the following network: \n",
    "```\n",
    "(A)---2---(B)---2---(C)---2---(D)---2---(E)\n",
    "```\n",
    "where `A,B,C` hold `1` coin each and `D` holds `3` coins and `E` holds `2` coins. \n",
    "\n",
    "Again no network state exists that would produce this wealth distribution. \n",
    "\n",
    "## Goal of this notebook\n",
    "\n",
    "Leaving the [formulation of inequalities to describe the polytope of wealth distributions]((https://github.com/renepickhardt/Lightning-Network-Limitations/blob/906b3a4d691cbfb30c2f385c6697b4fe2bb81676/Limits%20of%20two%20party%20channels/Geometric%20Argument%20for%20Bimodal%20Liquidity%20Distribution%20in%20Payment%20Channels%20of%20the%20Lightning%20Network.ipynb)) and focussing on the polytope $S$ of channel states and the natural mapping from $\\omega: S\\rightarrow S/\\sim \\cong W$ one is interested if for $w\\in S/\\sim$ we can construct and element of $\\omega^{-1}(\\{w\\})$ (aka an element in the preimage of $w$)\n",
    "\n",
    "We claim that a preimage exists if the following system of linear equations has a non trivial solution. This can be tested by solving the large or small linear program constructed and provided in this notebook. The system of linear equations is described in the code! The gist for the two programs is as follows:\n",
    "\n",
    "* $m$ = number of edges\n",
    "* $n$ = number of peers on the network\n",
    "\n",
    "### Large linear program \n",
    "* $2m$ variables encoding the wealth of each user in the channel (this can probably be reduced to $m$ variables)\n",
    "* $m$ constraints with conservation of liquidity in channels\n",
    "* $n$ constraints relating to the wealth distribution of $n$ peers\n",
    "* $1$ constraint relating to the total number of coins\n",
    "* $2m+1$ bounds actually $m$ bounds but each is twice and 1 bound for total number of coins\n",
    "  \n",
    "### Small linear program\n",
    "* $m$ variables. One representing the liquidity of the smaller node id for each channel\n",
    "* $n$ constraints comming from the wealth of each user\n",
    "Conservation of liquidity in channels is being used \n",
    "* $m$ bounds as the liquidity in each channel must be between `0` and `cap`\n",
    "\n",
    "\n",
    "## Acknowledgements\n",
    "\n",
    "Obviously a big thanks goes to [Anastasios (Tasos) Sidiropoulos](https://sidiropo.people.uic.edu/) for the initial counter example and the discussion on twitter. Also to Stefan Richter for putting out the hypothesis in the thread that a cycle base would be sufficient to test for conservation of liquidity. The work is sponsored through a [grant from OpenSats](https://opensats.org/blog/rene-pickhardt-receives-lts-grant) and through [individual patreons](https://www.patreon.com/renepickhardt)."
   ]
  },
  {
   "cell_type": "code",
   "execution_count": 1,
   "id": "4370a987-36e8-41c7-bb76-e16eb2ce5a4f",
   "metadata": {},
   "outputs": [],
   "source": [
    "from scipy.optimize import linprog"
   ]
  },
  {
   "cell_type": "markdown",
   "id": "15c7cb15-a7af-42f2-bbca-a45224b02e35",
   "metadata": {},
   "source": [
    "Create channels and wealth distribution according to the modified counter example from Sidiropoulos"
   ]
  },
  {
   "cell_type": "code",
   "execution_count": 2,
   "id": "975b938b-41c0-40b1-93bc-19734f886b72",
   "metadata": {},
   "outputs": [
    {
     "name": "stdout",
     "output_type": "stream",
     "text": [
      "Given the following network:\n",
      "\n",
      "(0)-?-----|2|-----?-(1)\n",
      "(1)-?-----|2|-----?-(2)\n",
      "(2)-?-----|2|-----?-(3)\n",
      "(3)-?-----|2|-----?-(4)\n"
     ]
    }
   ],
   "source": [
    "channels = {(0,1):2, (1,2):2, (2,3):2, (3,4):2}\n",
    "wealth = {0:1,1:1,2:1,3:3,4:2}\n",
    "\n",
    "def print_network(channels):\n",
    "    print(\"Given the following network:\\n\")\n",
    "    for chan, cap in channels.items():\n",
    "        print(\"({})-?-----|{}|-----?-({})\".format(chan[0],cap,chan[1]))\n",
    "print_network(channels)"
   ]
  },
  {
   "cell_type": "markdown",
   "id": "98f53436-db63-4fca-9577-7838d336d5ad",
   "metadata": {},
   "source": [
    "Construction of the system of $n+m+1$ linear equations in $2m$ variables ($w_{ij}$) and the corresponding linear program that must be feasible in order for a lighting network channel state to exist that produces the wealth distribution: \n",
    "\n",
    "* $w_{ij} + w_{ji} = c_{ij} \\forall i<j$ ($m$ constraints)\n",
    "* $\\sum_{j=1}^nw_{ij} = w_i$ ($n$ constraints)\n",
    "* $\\sum_{i,j}w_{ij} = \\sum_{i,j}c_{ij}$\n",
    "\n",
    "This programm depends on $m+n$ parameters ($c_{ij}$ and $w_i$}\n",
    "\n",
    "A feasible solution means that we have a non trivial preimage for a given wealth distribution\n",
    "\n"
   ]
  },
  {
   "cell_type": "code",
   "execution_count": 3,
   "id": "677aa822-5456-439e-8c98-7f954ab1d3cc",
   "metadata": {},
   "outputs": [
    {
     "name": "stdout",
     "output_type": "stream",
     "text": [
      "Given the following network:\n",
      "\n",
      "(0)-?-----|2|-----?-(1)\n",
      "(1)-?-----|2|-----?-(2)\n",
      "(2)-?-----|2|-----?-(3)\n",
      "(3)-?-----|2|-----?-(4)\n",
      "\n",
      "The wealth distribution {0: 1, 1: 1, 2: 1, 3: 3, 4: 2} is infeasible for the network\n"
     ]
    }
   ],
   "source": [
    "def get_state_large_lp(channels, wealth):\n",
    "    num_coins = sum(channels.values())\n",
    "    m = len(channels)\n",
    "    n = len(wealth)\n",
    "    \n",
    "    channel_idx = {}\n",
    "    A = []\n",
    "    b = []\n",
    "    \n",
    "    wealth_constraints = []\n",
    "    for i in range(n):\n",
    "        row = [0]*2*m\n",
    "        wealth_constraints.append(row)\n",
    "    \n",
    "    bounds = []\n",
    "    for k, chan in enumerate(channels.items()):\n",
    "        row = [0]*2*m\n",
    "        row[2*k]=1\n",
    "        row[2*k+1]=1\n",
    "        A.append(row)\n",
    "        key,cap = chan\n",
    "        #add bounds of channel twice as each channel adds two variables\n",
    "        bounds.append((0,cap))\n",
    "        bounds.append((0,cap))\n",
    "    \n",
    "        x,y = key\n",
    "        channel_idx[2*k]=key\n",
    "        channel_idx[2*k+1]=(y,x)\n",
    "        \n",
    "        wealth_constraints[x][2*k]=1\n",
    "        wealth_constraints[y][2*k+1]=1\n",
    "        b.append(cap)\n",
    "    for k, row in enumerate(wealth_constraints):\n",
    "        A.append(row)\n",
    "        b.append(wealth[k])\n",
    "    A.append([1]*2*m)\n",
    "    num_coins=sum(wealth.values())\n",
    "    b.append(num_coins)\n",
    "    \n",
    "    c = [1]*2*m\n",
    "    \n",
    "    #print(A,b,bounds)\n",
    "    print_network(channels)\n",
    "    res = linprog(c, A_eq=A, b_eq=b, bounds=bounds)\n",
    "    if res.success == True:\n",
    "        print(\"\\nthis state vector satisfies the wealth distribution {}\".format(wealth))\n",
    "        for i,x in enumerate(res.x):\n",
    "            print(channel_idx[i], x)\n",
    "    else:\n",
    "        print(\"\\nThe wealth distribution {} is infeasible for the network\".format(wealth))\n",
    "\n",
    "get_state_large_lp(channels, wealth)"
   ]
  },
  {
   "cell_type": "markdown",
   "id": "3faced21-9eb5-4e97-8853-62766e709974",
   "metadata": {},
   "source": [
    "## Alternative way that uses only $m$ variabales and $n$ constraints. \n",
    "\n",
    "We observe that the conservation of liquidity constraints can be utilized to replace $m$ variables: \n",
    "\n",
    "$w_{ij}=c_{ij}-w_{ji} \\Leftrightarrow w_{ji}=c_{ij}-w_{ij}$\n",
    "\n",
    "Thus we can allways assume that $i<j$. Recall the constraints for the wealth $w_i$ of user $i$ used to be $w_i = \\sum_{j=1}^nw_{ij}$ This will now become:\n",
    "\n",
    "$w_i = \\sum_{j=1}^{i}(c_{ij}-w_{ji}) + \\sum_{j=i+1}^nw_{ij}$\n",
    "\n",
    "$\\Leftrightarrow w_i - \\sum_{j=1}^{i}c_{ij} = \\sum_{j=i+1}^nw_{ij} -\\sum_{j=1}^{i}w_{ji}$\n",
    "\n",
    "$\\Leftrightarrow (\\sum_{j=1}^{i}c_{ij}) - w_i = (\\sum_{j=1}^{i}w_{ji}) - (\\sum_{j=i+1}^nw_{ij})$\n",
    "\n",
    "In particular the constraint that the total number of coins needs to be constant can be removed as it is implicitley given by using the capacities on the right hand side of the system of linear equations"
   ]
  },
  {
   "cell_type": "code",
   "execution_count": 4,
   "id": "bbbdfd4e-c161-4d8e-a32e-94ac120bc5aa",
   "metadata": {},
   "outputs": [
    {
     "name": "stdout",
     "output_type": "stream",
     "text": [
      "Given the following network:\n",
      "\n",
      "(0)-?-----|2|-----?-(1)\n",
      "(1)-?-----|2|-----?-(2)\n",
      "(2)-?-----|2|-----?-(3)\n",
      "(3)-?-----|2|-----?-(4)\n",
      "\n",
      "The wealth distribution {0: 1, 1: 1, 2: 1, 3: 3, 4: 2} is infeasible for the network\n"
     ]
    }
   ],
   "source": [
    "def get_state_small_lp(channels, wealth):\n",
    "    num_coins = sum(channels.values())\n",
    "    m = len(channels)\n",
    "    n = len(wealth)\n",
    "    \n",
    "    channel_idx = {}\n",
    "    A = []\n",
    "    b = []\n",
    "    \n",
    "    wealth_constraints = {i:[0]*m for i in range(n)}\n",
    "    bounds = []\n",
    "    for k, chan in enumerate(channels.items()):\n",
    "        key,cap = chan\n",
    "        bounds.append((0,cap))\n",
    "        channel_idx[k]=key\n",
    "    \n",
    "        x,y = key\n",
    "        #requirement to remove variables channels are always going from lower to higher id\n",
    "        assert x < y\n",
    "        \n",
    "        wealth_constraints[x][k]=-1\n",
    "        wealth_constraints[y][k]=1\n",
    "    for i, row in wealth_constraints.items():\n",
    "        A.append(row)\n",
    "        cap = 0\n",
    "        for j in range(i):\n",
    "            if (j,i) in channels:\n",
    "                cap+=channels[(j,i)]\n",
    "        b.append(cap - wealth[i])\n",
    "    \n",
    "    c = [1]*m\n",
    "    \n",
    "    #print(A,b,bounds)\n",
    "    \n",
    "    res = linprog(c, A_eq=A, b_eq=b, bounds=bounds)\n",
    "\n",
    "    print_network(channels)\n",
    "        \n",
    "    if res.success == True:\n",
    "        print(\"\\n\\nThe following state the wealth distribution {}:\\n\".format(wealth))\n",
    "        for i,x in enumerate(res.x):\n",
    "            cap = channels[channel_idx[i]]\n",
    "            print(\"({})-{}-----|{}|-----{}-({})\".format(channel_idx[i][0],x,cap,cap-x,channel_idx[i][1]))\n",
    "            \n",
    "    else:\n",
    "        print(\"\\nThe wealth distribution {} is infeasible for the network\".format(wealth))\n",
    "get_state_small_lp(channels, wealth)"
   ]
  },
  {
   "cell_type": "code",
   "execution_count": 5,
   "id": "8200890a-d84a-4c3e-8978-54eaefb60bd1",
   "metadata": {},
   "outputs": [
    {
     "name": "stdout",
     "output_type": "stream",
     "text": [
      "Given the following network:\n",
      "\n",
      "(0)-?-----|2|-----?-(1)\n",
      "(1)-?-----|2|-----?-(2)\n",
      "(2)-?-----|2|-----?-(3)\n",
      "(3)-?-----|2|-----?-(4)\n",
      "\n",
      "this state vector satisfies the wealth distribution {0: 1, 1: 2, 2: 1, 3: 2, 4: 2}\n",
      "(0, 1) 1.0\n",
      "(1, 0) 1.0\n",
      "(1, 2) 1.0\n",
      "(2, 1) 1.0\n",
      "(2, 3) -0.0\n",
      "(3, 2) 2.0\n",
      "(3, 4) -0.0\n",
      "(4, 3) 2.0\n",
      "Given the following network:\n",
      "\n",
      "(0)-?-----|2|-----?-(1)\n",
      "(1)-?-----|2|-----?-(2)\n",
      "(2)-?-----|2|-----?-(3)\n",
      "(3)-?-----|2|-----?-(4)\n",
      "\n",
      "\n",
      "The following state the wealth distribution {0: 1, 1: 2, 2: 1, 3: 2, 4: 2}:\n",
      "\n",
      "(0)-1.0-----|2|-----1.0-(1)\n",
      "(1)-1.0-----|2|-----1.0-(2)\n",
      "(2)-0.0-----|2|-----2.0-(3)\n",
      "(3)-0.0-----|2|-----2.0-(4)\n"
     ]
    }
   ],
   "source": [
    "channels = {(0,1):2, (1,2):2, (2,3):2, (3,4):2}\n",
    "wealth = {0:1,1:2,2:1,3:2,4:2}\n",
    "\n",
    "get_state_large_lp(channels, wealth)\n",
    "get_state_small_lp(channels, wealth)"
   ]
  },
  {
   "cell_type": "code",
   "execution_count": 6,
   "id": "76b061e1-c892-4c87-819f-d5853815a902",
   "metadata": {},
   "outputs": [
    {
     "name": "stdout",
     "output_type": "stream",
     "text": [
      "Given the following network:\n",
      "\n",
      "(0)-?-----|2|-----?-(1)\n",
      "(1)-?-----|3|-----?-(2)\n",
      "(0)-?-----|10|-----?-(2)\n",
      "\n",
      "The wealth distribution {0: 3, 1: 5, 2: 6} is infeasible for the network\n",
      "Given the following network:\n",
      "\n",
      "(0)-?-----|2|-----?-(1)\n",
      "(1)-?-----|3|-----?-(2)\n",
      "(0)-?-----|10|-----?-(2)\n",
      "\n",
      "The wealth distribution {0: 3, 1: 5, 2: 6} is infeasible for the network\n"
     ]
    }
   ],
   "source": [
    "channels = {(0,1):2, (1,2):3, (0,2):10}\n",
    "wealth = {0:3,1:5,2:6}\n",
    "\n",
    "get_state_large_lp(channels, wealth)\n",
    "get_state_small_lp(channels, wealth)\n"
   ]
  },
  {
   "cell_type": "code",
   "execution_count": 7,
   "id": "c5b2cf37-50ec-4144-90c0-d2cb38773306",
   "metadata": {},
   "outputs": [
    {
     "name": "stdout",
     "output_type": "stream",
     "text": [
      "Given the following network:\n",
      "\n",
      "(0)-?-----|2|-----?-(1)\n",
      "(1)-?-----|3|-----?-(2)\n",
      "(0)-?-----|10|-----?-(2)\n",
      "\n",
      "this state vector satisfies the wealth distribution {0: 3, 1: 4, 2: 8}\n",
      "(0, 1) -0.0\n",
      "(1, 0) 2.0\n",
      "(1, 2) 2.0\n",
      "(2, 1) 1.0\n",
      "(0, 2) 3.0\n",
      "(2, 0) 7.0\n",
      "Given the following network:\n",
      "\n",
      "(0)-?-----|2|-----?-(1)\n",
      "(1)-?-----|3|-----?-(2)\n",
      "(0)-?-----|10|-----?-(2)\n",
      "\n",
      "\n",
      "The following state the wealth distribution {0: 3, 1: 4, 2: 8}:\n",
      "\n",
      "(0)-0.0-----|2|-----2.0-(1)\n",
      "(1)-2.0-----|3|-----1.0-(2)\n",
      "(0)-3.0-----|10|-----7.0-(2)\n"
     ]
    }
   ],
   "source": [
    "channels = {(0,1):2, (1,2):3, (0,2):10}\n",
    "wealth = {0:3,1:4,2:8}\n",
    "\n",
    "get_state_large_lp(channels, wealth)\n",
    "get_state_small_lp(channels, wealth)"
   ]
  },
  {
   "cell_type": "code",
   "execution_count": null,
   "id": "e31c138f-b505-46ad-8ff8-e1a2eed13e0b",
   "metadata": {},
   "outputs": [],
   "source": []
  }
 ],
 "metadata": {
  "kernelspec": {
   "display_name": "Python 3 (ipykernel)",
   "language": "python",
   "name": "python3"
  },
  "language_info": {
   "codemirror_mode": {
    "name": "ipython",
    "version": 3
   },
   "file_extension": ".py",
   "mimetype": "text/x-python",
   "name": "python",
   "nbconvert_exporter": "python",
   "pygments_lexer": "ipython3",
   "version": "3.11.7"
  }
 },
 "nbformat": 4,
 "nbformat_minor": 5
}
